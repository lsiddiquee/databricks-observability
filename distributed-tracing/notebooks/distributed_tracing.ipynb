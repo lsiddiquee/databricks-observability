{
 "cells": [
  {
   "cell_type": "markdown",
   "metadata": {},
   "source": [
    "# Distributed Tracing in Databricks with OpenTelemetry and Azure Monitor\n",
    "\n",
    "In this notebook, we will set up distributed tracing and logging for a Databricks notebook. Distributed tracing allows us to monitor and visualize requests as they propagate through different components of a system. This can be useful to identify performance bottlenecks or trace errors.\n"
   ]
  },
  {
   "cell_type": "markdown",
   "metadata": {},
   "source": [
    "## Setup\n",
    "\n",
    "Removing all existing widgets and installing the needed traceparent widget. This cell is commented as the widget should already be present in this notebook, if not: uncomment and run it before you comment it again."
   ]
  },
  {
   "cell_type": "code",
   "execution_count": null,
   "metadata": {
    "application/vnd.databricks.v1+cell": {
     "cellMetadata": {
      "byteLimit": 2048000,
      "rowLimit": 10000
     },
     "inputWidgets": {},
     "nuid": "ddda85dc-21a7-4f98-9123-157ff92d0715",
     "showTitle": false,
     "title": ""
    }
   },
   "outputs": [],
   "source": [
    "# dbutils.widgets.removeAll()\n",
    "# dbutils.widgets.text(\"traceparent\", \"00-80e1afed08e019fc1110464cfa66635c-7a085853722dc6d2-01\")"
   ]
  },
  {
   "cell_type": "markdown",
   "metadata": {},
   "source": [
    "Installation of python packages on the cluster."
   ]
  },
  {
   "cell_type": "code",
   "execution_count": null,
   "metadata": {
    "application/vnd.databricks.v1+cell": {
     "cellMetadata": {
      "byteLimit": 2048000,
      "rowLimit": 10000
     },
     "inputWidgets": {},
     "nuid": "0f2d3384-3b3d-4e34-ae69-bf7f14a4e4f4",
     "showTitle": false,
     "title": ""
    }
   },
   "outputs": [
    {
     "name": "stdout",
     "output_type": "stream",
     "text": [
      "\u001b[43mNote: you may need to restart the kernel using dbutils.library.restartPython() to use updated packages.\u001b[0m\n",
      "Requirement already satisfied: opentelemetry-semantic-conventions==0.38b0 in /local_disk0/.ephemeral_nfs/envs/pythonEnv-9e9df606-9add-4cdc-8c14-f79589db36c7/lib/python3.10/site-packages (0.38b0)\n",
      "\u001b[43mNote: you may need to restart the kernel using dbutils.library.restartPython() to use updated packages.\u001b[0m\n",
      "\u001b[43mNote: you may need to restart the kernel using dbutils.library.restartPython() to use updated packages.\u001b[0m\n",
      "Requirement already satisfied: opentelemetry-sdk==1.17.0 in /local_disk0/.ephemeral_nfs/envs/pythonEnv-9e9df606-9add-4cdc-8c14-f79589db36c7/lib/python3.10/site-packages (1.17.0)\n",
      "Requirement already satisfied: typing-extensions>=3.7.4 in /databricks/python3/lib/python3.10/site-packages (from opentelemetry-sdk==1.17.0) (4.3.0)\n",
      "Requirement already satisfied: setuptools>=16.0 in /databricks/python3/lib/python3.10/site-packages (from opentelemetry-sdk==1.17.0) (63.4.1)\n",
      "Requirement already satisfied: opentelemetry-semantic-conventions==0.38b0 in /local_disk0/.ephemeral_nfs/envs/pythonEnv-9e9df606-9add-4cdc-8c14-f79589db36c7/lib/python3.10/site-packages (from opentelemetry-sdk==1.17.0) (0.38b0)\n",
      "Requirement already satisfied: opentelemetry-api==1.17.0 in /local_disk0/.ephemeral_nfs/envs/pythonEnv-9e9df606-9add-4cdc-8c14-f79589db36c7/lib/python3.10/site-packages (from opentelemetry-sdk==1.17.0) (1.17.0)\n",
      "Requirement already satisfied: deprecated>=1.2.6 in /local_disk0/.ephemeral_nfs/envs/pythonEnv-9e9df606-9add-4cdc-8c14-f79589db36c7/lib/python3.10/site-packages (from opentelemetry-api==1.17.0->opentelemetry-sdk==1.17.0) (1.2.14)\n",
      "Requirement already satisfied: importlib-metadata~=6.0.0 in /local_disk0/.ephemeral_nfs/envs/pythonEnv-9e9df606-9add-4cdc-8c14-f79589db36c7/lib/python3.10/site-packages (from opentelemetry-api==1.17.0->opentelemetry-sdk==1.17.0) (6.0.1)\n",
      "Requirement already satisfied: wrapt<2,>=1.10 in /local_disk0/.ephemeral_nfs/envs/pythonEnv-9e9df606-9add-4cdc-8c14-f79589db36c7/lib/python3.10/site-packages (from deprecated>=1.2.6->opentelemetry-api==1.17.0->opentelemetry-sdk==1.17.0) (1.15.0)\n",
      "Requirement already satisfied: zipp>=0.5 in /usr/lib/python3/dist-packages (from importlib-metadata~=6.0.0->opentelemetry-api==1.17.0->opentelemetry-sdk==1.17.0) (1.0.0)\n",
      "\u001b[43mNote: you may need to restart the kernel using dbutils.library.restartPython() to use updated packages.\u001b[0m\n",
      "\u001b[43mNote: you may need to restart the kernel using dbutils.library.restartPython() to use updated packages.\u001b[0m\n",
      "Collecting azure-monitor-opentelemetry-exporter==1.0.0b13\n",
      "  Downloading azure_monitor_opentelemetry_exporter-1.0.0b13-py2.py3-none-any.whl (74 kB)\n",
      "     ━━━━━━━━━━━━━━━━━━━━━━━━━━━━━━━━━━━━━━━━ 74.7/74.7 kB 1.7 MB/s eta 0:00:00\n",
      "Collecting msrest>=0.6.10\n",
      "  Downloading msrest-0.7.1-py3-none-any.whl (85 kB)\n",
      "     ━━━━━━━━━━━━━━━━━━━━━━━━━━━━━━━━━━━━━━━━ 85.4/85.4 kB 5.8 MB/s eta 0:00:00\n",
      "Collecting fixedint==0.1.6\n",
      "  Downloading fixedint-0.1.6-py3-none-any.whl (12 kB)\n",
      "Requirement already satisfied: opentelemetry-sdk==1.17.0 in /local_disk0/.ephemeral_nfs/envs/pythonEnv-9e9df606-9add-4cdc-8c14-f79589db36c7/lib/python3.10/site-packages (from azure-monitor-opentelemetry-exporter==1.0.0b13) (1.17.0)\n",
      "Collecting azure-core<2.0.0,>=1.23.0\n",
      "  Downloading azure_core-1.29.4-py3-none-any.whl (192 kB)\n",
      "     ━━━━━━━━━━━━━━━━━━━━━━━━━━━━━━━━━━━━━━━ 192.4/192.4 kB 7.8 MB/s eta 0:00:00\n",
      "Requirement already satisfied: opentelemetry-api==1.17.0 in /local_disk0/.ephemeral_nfs/envs/pythonEnv-9e9df606-9add-4cdc-8c14-f79589db36c7/lib/python3.10/site-packages (from azure-monitor-opentelemetry-exporter==1.0.0b13) (1.17.0)\n",
      "Requirement already satisfied: setuptools>=16.0 in /databricks/python3/lib/python3.10/site-packages (from opentelemetry-api==1.17.0->azure-monitor-opentelemetry-exporter==1.0.0b13) (63.4.1)\n",
      "Requirement already satisfied: importlib-metadata~=6.0.0 in /local_disk0/.ephemeral_nfs/envs/pythonEnv-9e9df606-9add-4cdc-8c14-f79589db36c7/lib/python3.10/site-packages (from opentelemetry-api==1.17.0->azure-monitor-opentelemetry-exporter==1.0.0b13) (6.0.1)\n",
      "Requirement already satisfied: deprecated>=1.2.6 in /local_disk0/.ephemeral_nfs/envs/pythonEnv-9e9df606-9add-4cdc-8c14-f79589db36c7/lib/python3.10/site-packages (from opentelemetry-api==1.17.0->azure-monitor-opentelemetry-exporter==1.0.0b13) (1.2.14)\n",
      "Requirement already satisfied: opentelemetry-semantic-conventions==0.38b0 in /local_disk0/.ephemeral_nfs/envs/pythonEnv-9e9df606-9add-4cdc-8c14-f79589db36c7/lib/python3.10/site-packages (from opentelemetry-sdk==1.17.0->azure-monitor-opentelemetry-exporter==1.0.0b13) (0.38b0)\n",
      "Requirement already satisfied: typing-extensions>=3.7.4 in /databricks/python3/lib/python3.10/site-packages (from opentelemetry-sdk==1.17.0->azure-monitor-opentelemetry-exporter==1.0.0b13) (4.3.0)\n",
      "Requirement already satisfied: requests>=2.18.4 in /databricks/python3/lib/python3.10/site-packages (from azure-core<2.0.0,>=1.23.0->azure-monitor-opentelemetry-exporter==1.0.0b13) (2.28.1)\n",
      "Requirement already satisfied: six>=1.11.0 in /usr/lib/python3/dist-packages (from azure-core<2.0.0,>=1.23.0->azure-monitor-opentelemetry-exporter==1.0.0b13) (1.16.0)\n",
      "Collecting typing-extensions>=3.7.4\n",
      "  Downloading typing_extensions-4.8.0-py3-none-any.whl (31 kB)\n",
      "Requirement already satisfied: certifi>=2017.4.17 in /databricks/python3/lib/python3.10/site-packages (from msrest>=0.6.10->azure-monitor-opentelemetry-exporter==1.0.0b13) (2022.9.14)\n",
      "Collecting requests-oauthlib>=0.5.0\n",
      "  Downloading requests_oauthlib-1.3.1-py2.py3-none-any.whl (23 kB)\n",
      "Collecting isodate>=0.6.0\n",
      "  Downloading isodate-0.6.1-py2.py3-none-any.whl (41 kB)\n",
      "     ━━━━━━━━━━━━━━━━━━━━━━━━━━━━━━━━━━━━━━━━ 41.7/41.7 kB 5.2 MB/s eta 0:00:00\n",
      "Requirement already satisfied: wrapt<2,>=1.10 in /local_disk0/.ephemeral_nfs/envs/pythonEnv-9e9df606-9add-4cdc-8c14-f79589db36c7/lib/python3.10/site-packages (from deprecated>=1.2.6->opentelemetry-api==1.17.0->azure-monitor-opentelemetry-exporter==1.0.0b13) (1.15.0)\n",
      "Requirement already satisfied: zipp>=0.5 in /usr/lib/python3/dist-packages (from importlib-metadata~=6.0.0->opentelemetry-api==1.17.0->azure-monitor-opentelemetry-exporter==1.0.0b13) (1.0.0)\n",
      "Requirement already satisfied: urllib3<1.27,>=1.21.1 in /databricks/python3/lib/python3.10/site-packages (from requests>=2.18.4->azure-core<2.0.0,>=1.23.0->azure-monitor-opentelemetry-exporter==1.0.0b13) (1.26.11)\n",
      "Requirement already satisfied: charset-normalizer<3,>=2 in /databricks/python3/lib/python3.10/site-packages (from requests>=2.18.4->azure-core<2.0.0,>=1.23.0->azure-monitor-opentelemetry-exporter==1.0.0b13) (2.0.4)\n",
      "Requirement already satisfied: idna<4,>=2.5 in /databricks/python3/lib/python3.10/site-packages (from requests>=2.18.4->azure-core<2.0.0,>=1.23.0->azure-monitor-opentelemetry-exporter==1.0.0b13) (3.3)\n",
      "Requirement already satisfied: oauthlib>=3.0.0 in /usr/lib/python3/dist-packages (from requests-oauthlib>=0.5.0->msrest>=0.6.10->azure-monitor-opentelemetry-exporter==1.0.0b13) (3.2.0)\n",
      "Installing collected packages: fixedint, typing-extensions, isodate, requests-oauthlib, azure-core, msrest, azure-monitor-opentelemetry-exporter\n",
      "  Attempting uninstall: typing-extensions\n",
      "    Found existing installation: typing_extensions 4.3.0\n",
      "    Not uninstalling typing-extensions at /databricks/python3/lib/python3.10/site-packages, outside environment /local_disk0/.ephemeral_nfs/envs/pythonEnv-9e9df606-9add-4cdc-8c14-f79589db36c7\n",
      "    Can't uninstall 'typing_extensions'. No files were found to uninstall.\n",
      "Successfully installed azure-core-1.29.4 azure-monitor-opentelemetry-exporter-1.0.0b13 fixedint-0.1.6 isodate-0.6.1 msrest-0.7.1 requests-oauthlib-1.3.1 typing-extensions-4.8.0\n",
      "\u001b[43mNote: you may need to restart the kernel using dbutils.library.restartPython() to use updated packages.\u001b[0m\n"
     ]
    }
   ],
   "source": [
    "%pip install opentelemetry-semantic-conventions==0.38b0\n",
    "%pip install opentelemetry-sdk==1.17.0\n",
    "%pip install azure-monitor-opentelemetry-exporter==1.0.0b13"
   ]
  },
  {
   "cell_type": "markdown",
   "metadata": {},
   "source": [
    "Restarting the kernel to pickup the latest packages and getting the correct tracecontext (the one passed on by the API call) from the widget."
   ]
  },
  {
   "cell_type": "code",
   "execution_count": null,
   "metadata": {
    "application/vnd.databricks.v1+cell": {
     "cellMetadata": {
      "byteLimit": 2048000,
      "rowLimit": 10000
     },
     "inputWidgets": {},
     "nuid": "48620f31-065a-46b4-ae69-5b8e9bf10966",
     "showTitle": false,
     "title": ""
    }
   },
   "outputs": [],
   "source": [
    "dbutils.library.restartPython()"
   ]
  },
  {
   "cell_type": "code",
   "execution_count": null,
   "metadata": {
    "application/vnd.databricks.v1+cell": {
     "cellMetadata": {
      "byteLimit": 2048000,
      "rowLimit": 10000
     },
     "inputWidgets": {},
     "nuid": "4e57eb22-4b1f-4232-ac2a-191b2e67216b",
     "showTitle": false,
     "title": ""
    }
   },
   "outputs": [],
   "source": [
    "trace_context = dbutils.widgets.get(\"traceparent\")"
   ]
  },
  {
   "cell_type": "markdown",
   "metadata": {},
   "source": [
    "## Execution "
   ]
  },
  {
   "cell_type": "code",
   "execution_count": null,
   "metadata": {
    "application/vnd.databricks.v1+cell": {
     "cellMetadata": {
      "byteLimit": 2048000,
      "rowLimit": 10000
     },
     "inputWidgets": {},
     "nuid": "c74d6b39-e24d-462e-95ce-8f5f1646b2cf",
     "showTitle": false,
     "title": ""
    }
   },
   "outputs": [
    {
     "name": "stdout",
     "output_type": "stream",
     "text": [
      "{'traceparent': '00-80e1afed08e019fc1110464cfa66635c-7a085853722dc6d2-01'}\n",
      "SpanContext(trace_id=0x80e1afed08e019fc1110464cfa66635c, span_id=0x987ff4e0704e9c48, trace_flags=0x01, trace_state=[], is_remote=False)\n"
     ]
    }
   ],
   "source": [
    "from azure.monitor.opentelemetry.exporter import (\n",
    "    AzureMonitorLogExporter,\n",
    "    AzureMonitorTraceExporter\n",
    ")\n",
    "\n",
    "from opentelemetry import trace\n",
    "from opentelemetry.sdk.trace import TracerProvider\n",
    "from opentelemetry.sdk.resources import Resource\n",
    "from opentelemetry.sdk.trace.export import BatchSpanProcessor\n",
    "from opentelemetry.trace import get_tracer_provider, set_tracer_provider, SpanKind\n",
    "from opentelemetry.trace.propagation.tracecontext import TraceContextTextMapPropagator\n",
    "\n",
    "from opentelemetry.sdk._logs import LoggerProvider, LoggingHandler\n",
    "from opentelemetry.sdk._logs.export import BatchLogRecordProcessor\n",
    "from opentelemetry._logs import get_logger_provider, set_logger_provider\n",
    "\n",
    "from random import randrange\n",
    "\n",
    "import logging\n",
    "import time\n",
    "\n",
    "def setup_tracing(connection_string, resource):\n",
    "    tracer_provider = TracerProvider(resource=resource)\n",
    "    set_tracer_provider(tracer_provider)\n",
    "    trace_exporter = AzureMonitorTraceExporter(connection_string=connection_string)\n",
    "    span_processor = BatchSpanProcessor(\n",
    "        trace_exporter,\n",
    "    )\n",
    "    get_tracer_provider().add_span_processor(span_processor)\n",
    "\n",
    "def setup_logging(connection_string, resource):\n",
    "    logger_provider = LoggerProvider(resource=resource)\n",
    "    set_logger_provider(logger_provider)\n",
    "    log_exporter = AzureMonitorLogExporter(connection_string=connection_string)\n",
    "    log_record_processor = BatchLogRecordProcessor(\n",
    "        log_exporter\n",
    "    )\n",
    "    get_logger_provider().add_log_record_processor(log_record_processor)\n",
    "    handler = LoggingHandler(logger_provider=get_logger_provider())\n",
    "    logging.getLogger().addHandler(handler)\n",
    "\n",
    "connection_string = \"<connection_string_to_app_insights>\"\n",
    "resource = Resource.create({\"service.name\": \"Databricks Notebook\"})\n",
    "\n",
    "setup_tracing(connection_string, resource)\n",
    "setup_logging(connection_string, resource)\n",
    "\n",
    "logger = logging.getLogger(__name__)\n",
    "logger.setLevel(logging.DEBUG)\n",
    "\n",
    "logger.info(\"Inside notebook\")\n",
    "logger.info(f\"Attempt to join an existing trace session with context: {trace_context}\")\n",
    "\n",
    "headers = {\n",
    "    \"traceparent\": trace_context\n",
    "}\n",
    "\n",
    "print(headers)\n",
    "\n",
    "# Explicitly the tracer is being created in here to ensure that we create it with the correct context from the headers.\n",
    "context = TraceContextTextMapPropagator().extract(headers)\n",
    "tracer = trace.get_tracer(__name__)\n",
    "with tracer.start_as_current_span(name=\"Notebook Invoked\", context=context, kind=SpanKind.SERVER) as span:\n",
    "    print(span.get_span_context())\n",
    "    with tracer.start_as_current_span(name='extract'):\n",
    "        logger.info(\"Extract\")\n",
    "        time.sleep(randrange(start=3, stop=10))\n",
    "    with tracer.start_as_current_span(name='transform'):\n",
    "        logger.info(\"Transform\")\n",
    "        time.sleep(randrange(start=3, stop=10))\n",
    "    with tracer.start_as_current_span(name='load'):\n",
    "        logger.info(\"Load\")\n",
    "        time.sleep(randrange(start=3, stop=10))"
   ]
  }
 ],
 "metadata": {
  "application/vnd.databricks.v1+notebook": {
   "dashboards": [],
   "language": "python",
   "notebookMetadata": {
    "pythonIndentUnit": 4
   },
   "notebookName": "distributed_tracing",
   "widgets": {
    "traceparent": {
     "currentValue": "00-80e1afed08e019fc1110464cfa66635c-7a085853722dc6d2-01",
     "nuid": "a1165306-fb13-4280-b4bd-efc1fa20c2e7",
     "widgetInfo": {
      "defaultValue": "00-80e1afed08e019fc1110464cfa66635c-7a085853722dc6d2-01",
      "label": null,
      "name": "traceparent",
      "options": {
       "validationRegex": null,
       "widgetType": "text"
      },
      "widgetType": "text"
     }
    }
   }
  },
  "language_info": {
   "name": "python"
  }
 },
 "nbformat": 4,
 "nbformat_minor": 0
}
